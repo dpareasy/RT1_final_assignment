{
 "cells": [
  {
   "cell_type": "markdown",
   "id": "e30401ed",
   "metadata": {},
   "source": [
    "# RT Assignment\n",
    "\n",
    "## Robot behavior ##"
   ]
  },
  {
   "cell_type": "code",
   "execution_count": 1,
   "id": "ab37034f",
   "metadata": {
    "ExecuteTime": {
     "end_time": "2022-05-31T11:41:44.655337Z",
     "start_time": "2022-05-31T11:41:37.020912Z"
    },
    "scrolled": true
   },
   "outputs": [],
   "source": [
    "from ipywidgets import Button, Layout, ButtonStyle, GridBox, VBox, HBox, interactive, widgets\n",
    "from move_base_msgs.msg import MoveBaseActionGoal, MoveBaseActionFeedback\n",
    "from geometry_msgs.msg import PointStamped, Twist\n",
    "from tf.transformations import quaternion_matrix\n",
    "from matplotlib.animation import FuncAnimation\n",
    "import ipywidgets as widgets\n",
    "from sensor_msgs.msg import LaserScan\n",
    "from actionlib_msgs.msg import GoalID\n",
    "from IPython.display import display\n",
    "from nav_msgs.msg import Odometry\n",
    "\n",
    "import matplotlib.pyplot as plt\n",
    "import ipywidgets as widgets\n",
    "import jupyros as jr\n",
    "import numpy as np\n",
    "import datetime\n",
    "import rospy \n",
    "import time\n",
    "import tf\n",
    "\n",
    "global SetX, SetY, XGoal, YGoal, goalID\n",
    "global notAchieved\n",
    "global outputSet\n",
    "global achieved\n",
    "global x_vel\n",
    "global z_vel\n",
    "\n",
    "collisionAssistant = False\n",
    "AssistedDrive = False\n",
    "Navigation = False\n",
    "goalStatus = False\n",
    "\n",
    "notAchieved = 0\n",
    "achieved = 0"
   ]
  },
  {
   "cell_type": "code",
   "execution_count": 2,
   "id": "0e429e55",
   "metadata": {
    "ExecuteTime": {
     "end_time": "2022-05-31T11:41:44.778337Z",
     "start_time": "2022-05-31T11:41:44.699672Z"
    },
    "scrolled": true
   },
   "outputs": [],
   "source": [
    "#function called everytime the third modality is chosen for enabling the collision avoidence\n",
    "def CollisionAvoidanceCallback(msg):\n",
    "    global Vel, collisionAssistant, x_vel, y_vel   \n",
    "    \n",
    "    if collisionAssistant == True:        \n",
    "        Vel = Twist()\n",
    "        \n",
    "        right = min(msg.ranges[0:79])\n",
    "        front = min(msg.ranges[340:379])\n",
    "        left = min(msg.ranges[640:719])\n",
    "        \n",
    "        Vel.linear.x = x_vel;\n",
    "        Vel.angular.z = z_vel;\n",
    "\n",
    "        if front < 0.5:\n",
    "            Vel.linear.x = 0\n",
    "        elif left < 0.5:\n",
    "            Vel.angular.z = -1\n",
    "        elif right < 0.5:\n",
    "            Vel.angular.z = 1\n",
    "        else:\n",
    "            pass\n",
    "\n",
    "        pubVel.publish(Vel) #publish the corrected velocity for avoiding collisions"
   ]
  },
  {
   "cell_type": "code",
   "execution_count": 3,
   "id": "2199e9d4",
   "metadata": {
    "ExecuteTime": {
     "end_time": "2022-05-31T11:41:44.818692Z",
     "start_time": "2022-05-31T11:41:44.794503Z"
    },
    "scrolled": true
   },
   "outputs": [],
   "source": [
    "def CurrentGoal(msg):\n",
    "    \n",
    "    global xG, yG\n",
    "    xG = msg.goal.target_pose.pose.position.x;\n",
    "    yG = msg.goal.target_pose.pose.position.y;\n"
   ]
  },
  {
   "cell_type": "code",
   "execution_count": 4,
   "id": "ae538666",
   "metadata": {
    "ExecuteTime": {
     "end_time": "2022-05-31T11:41:44.921280Z",
     "start_time": "2022-05-31T11:41:44.829321Z"
    },
    "scrolled": true
   },
   "outputs": [],
   "source": [
    "def GoalStatus(msg):\n",
    "    \n",
    "    global goalStatus, xG, yG\n",
    "    global achieved\n",
    "    \n",
    "    goalID = msg.status.goal_id.id\n",
    "       \n",
    "    if goalStatus == True:\n",
    "        if abs(msg.feedback.base_position.pose.position.x - xG) <= 0.5 and abs(msg.feedback.base_position.pose.position.y - yG)<= 0.5:\n",
    "            achieved += 1\n",
    "            print(\"Goal Reached!\")\n",
    "            goalStatus = False "
   ]
  },
  {
   "cell_type": "code",
   "execution_count": 5,
   "id": "685e96e8",
   "metadata": {
    "ExecuteTime": {
     "end_time": "2022-05-31T11:41:44.974710Z",
     "start_time": "2022-05-31T11:41:44.939631Z"
    }
   },
   "outputs": [],
   "source": [
    "def CancelGoal(b):\n",
    "    global goalStatus, notAchieved\n",
    "    if goalStatus == False:\n",
    "        print(\"No goal set!\")\n",
    "        notAchieved = notAchieve\n",
    "    else:\n",
    "        with outputCanc:\n",
    "            lastGoal = GoalID()\n",
    "            pubCancel.publish(lastGoal)\n",
    "            goalStatus = False\n",
    "            print(\"Goal Canceled\")\n",
    "            notAchieved += 1"
   ]
  },
  {
   "cell_type": "code",
   "execution_count": 6,
   "id": "bcff69d9",
   "metadata": {
    "ExecuteTime": {
     "end_time": "2022-05-31T11:41:45.087214Z",
     "start_time": "2022-05-31T11:41:45.019735Z"
    }
   },
   "outputs": [],
   "source": [
    "def SetGoal(b):    \n",
    "            \n",
    "    global goalStatus            \n",
    "    with outputSet:\n",
    "                \n",
    "        if goalStatus == True:\n",
    "                    \n",
    "            print(\"Goal already set\")\n",
    "                    \n",
    "        else:   \n",
    "                    \n",
    "            XGoal = float(SetX.value)\n",
    "            YGoal = float(SetY.value)\n",
    "            my_goal = MoveBaseActionGoal()\n",
    "\n",
    "            my_goal.goal.target_pose.header.frame_id = \"map\"\n",
    "            my_goal.goal.target_pose.pose.orientation.w = 1\n",
    "\n",
    "            my_goal.goal.target_pose.pose.position.x = XGoal\n",
    "            my_goal.goal.target_pose.pose.position.y = YGoal \n",
    "\n",
    "            pubGoal.publish(my_goal)\n",
    "                    \n",
    "            goalStatus = True"
   ]
  },
  {
   "cell_type": "code",
   "execution_count": 7,
   "id": "8358b15d",
   "metadata": {
    "ExecuteTime": {
     "end_time": "2022-05-31T11:41:45.358855Z",
     "start_time": "2022-05-31T11:41:45.091689Z"
    }
   },
   "outputs": [],
   "source": [
    "# definition of the Buttons for SetGoal and CancGoal\n",
    "bSet = widgets.Button(description='SetGoal')\n",
    "bCanc = widgets.Button(description='CancGoal')\n",
    "\n",
    "outputSet = widgets.Output()\n",
    "outputCanc = widgets.Output()\n",
    "\n",
    "bSet.on_click(SetGoal)\n",
    "bCanc.on_click(CancelGoal)"
   ]
  },
  {
   "cell_type": "code",
   "execution_count": 8,
   "id": "a32cab6a",
   "metadata": {
    "ExecuteTime": {
     "end_time": "2022-05-31T11:41:45.388632Z",
     "start_time": "2022-05-31T11:41:45.374582Z"
    },
    "scrolled": true
   },
   "outputs": [],
   "source": [
    "def AutonomousNavigation(b):\n",
    "    \n",
    "    global SetX, SetY   \n",
    "    with output1:   \n",
    "        print(\"Autonomous Navigation!\")\n",
    "    \n",
    "        SetX = widgets.FloatText(\n",
    "        description='XValue:',\n",
    "        disabled=False\n",
    "        )\n",
    "        \n",
    "        SetY = widgets.FloatText(\n",
    "        description='YValue:',\n",
    "        disabled=False\n",
    "        )\n",
    "        display(SetX, SetY, bSet, outputSet)\n",
    "        display(bCanc, outputCanc)\n",
    "               "
   ]
  },
  {
   "cell_type": "code",
   "execution_count": 9,
   "id": "79acac83",
   "metadata": {
    "ExecuteTime": {
     "end_time": "2022-05-31T11:41:45.437964Z",
     "start_time": "2022-05-31T11:41:45.393460Z"
    },
    "scrolled": true
   },
   "outputs": [],
   "source": [
    "def GetVel(V):\n",
    "    global x_vel, z_vel\n",
    "    x_vel = V.linear.x;\n",
    "    z_vel = V.angular.z;\n",
    "subVel = rospy.Subscriber('/cmd_vel', Twist, GetVel)"
   ]
  },
  {
   "cell_type": "code",
   "execution_count": 10,
   "id": "cf370b22",
   "metadata": {
    "ExecuteTime": {
     "end_time": "2022-05-31T11:41:45.863186Z",
     "start_time": "2022-05-31T11:41:45.458080Z"
    }
   },
   "outputs": [],
   "source": [
    "# Definition of the buttons  for the manual drive and of the checkbox for able and disable the assisted drive\n",
    "ButtonFront = widgets.Button(description = \"Front\")        \n",
    "ButtonBack = widgets.Button(description = \"Back\")       \n",
    "ButtonLeft = widgets.Button(description = \"Left\")        \n",
    "ButtonRight = widgets.Button(description = \"Right\")      \n",
    "ButtonFrontLeft = widgets.Button(description = \"FrontLeft\")        \n",
    "ButtonFrontRight = widgets.Button(description = \"FrontRight\")\n",
    "ButtonStop = widgets.Button(description = \"Stop\")\n",
    "ButtonIncreaseV = widgets.Button(description = \"IncreaseV\")\n",
    "ButtonDecreaseV = widgets.Button(description = \"DecreaseV\")\n",
    "assistedDrive = widgets.Checkbox(\n",
    "    value = False,\n",
    "    description=\"Assisted drive\",\n",
    "    disabled= False,\n",
    "    indent = False\n",
    ")"
   ]
  },
  {
   "cell_type": "code",
   "execution_count": 11,
   "id": "afa00bf6",
   "metadata": {
    "ExecuteTime": {
     "end_time": "2022-05-31T11:41:45.920968Z",
     "start_time": "2022-05-31T11:41:45.871197Z"
    },
    "scrolled": true
   },
   "outputs": [],
   "source": [
    "def RobotNavigation(b):\n",
    "    \n",
    "    print(\"Robot Navigation!\")\n",
    "    display(assistedDrive)\n",
    "    display(ButtonFront, ButtonBack, ButtonRight, ButtonStop, ButtonFrontLeft, ButtonFrontRight)\n",
    "    display(ButtonIncreaseV, ButtonDecreaseV)\n",
    "    \n",
    "    with output2:\n",
    "        \n",
    "        global x_vel, z_vel\n",
    "        \n",
    "        def setAssisted(b):\n",
    "            global collisionAssistant\n",
    "            if collisionAssistant == False:\n",
    "                collisionAssistant = True\n",
    "            else:\n",
    "                collisionAssistant = False\n",
    "        \n",
    "        def Front(b):\n",
    "            Vel = Twist()\n",
    "            Vel.linear.x = 0.5\n",
    "            Vel.angular.z = 0\n",
    "            pubVel.publish(Vel)\n",
    "            \n",
    "        def Back(b):\n",
    "            Vel = Twist()\n",
    "            Vel.linear.x = -0.5\n",
    "            Vel.angular.z = 0\n",
    "            pubVel.publish(Vel)\n",
    "            \n",
    "        def Left(b):\n",
    "            Vel = Twist()\n",
    "            Vel.linear.x = 0\n",
    "            Vel.angular.z = 1\n",
    "            pubVel.publish(Vel)\n",
    "            \n",
    "        def Right(b):\n",
    "            Vel = Twist()\n",
    "            Vel.linear.x = 0\n",
    "            Vel.angular.z = -1\n",
    "            pubVel.publish(Vel)\n",
    "            \n",
    "        def FrontRight(b):\n",
    "            Vel = Twist()\n",
    "            Vel.linear.x = 0.5\n",
    "            Vel.angular.z = -1\n",
    "            pubVel.publish(Vel)\n",
    "        \n",
    "        def FrontLeft(b):\n",
    "            Vel = Twist()\n",
    "            Vel.linear.x = 0.5\n",
    "            Vel.angular.z = 1\n",
    "            pubVel.publish(Vel)\n",
    "        \n",
    "        def Stop(b):\n",
    "            Vel = Twist()\n",
    "            Vel.linear.x = 0\n",
    "            Vel.angular.z = 0\n",
    "            pubVel.publish(Vel)\n",
    "        \n",
    "        def IncreaseVelocity(b):\n",
    "            global x_vel, z_vel\n",
    "            Vel = Twist()\n",
    "            x_vel += x_vel*0.1\n",
    "            z_vel += z_vel*0.1\n",
    "            Vel.linear.x = x_vel\n",
    "            Vel.angular.z = z_vel\n",
    "            pubVel.publish(Vel)\n",
    "            print(\"Velocity increased:\")\n",
    "            print(\"Linear velocity = \", x_vel)\n",
    "            print(\"Angular velocity = \", z_vel)\n",
    "            \n",
    "        def DecreaseVelocity(b):\n",
    "            global x_vel, z_vel\n",
    "            Vel = Twist()\n",
    "            x_vel -= x_vel*0.1\n",
    "            z_vel -= z_vel*0.1\n",
    "            Vel.linear.x = x_vel\n",
    "            Vel.angular.z = z_vel\n",
    "            pubVel.publish(Vel)\n",
    "            print(\"Velocity decreased:\")\n",
    "            print(\"Linear velocity = \", x_vel)\n",
    "            print(\"Angular velocity = \", z_vel)\n",
    "        \n",
    "        assistedDrive.observe(setAssisted)\n",
    "        ButtonFront.on_click(Front)\n",
    "        ButtonBack.on_click(Back)\n",
    "        ButtonLeft.on_click(Left)\n",
    "        ButtonRight.on_click(Right)\n",
    "        ButtonFrontLeft.on_click(FrontLeft)\n",
    "        ButtonFrontRight.on_click(FrontRight)\n",
    "        ButtonStop.on_click(Stop)    \n",
    "        ButtonIncreaseV.on_click(IncreaseVelocity)\n",
    "        ButtonDecreaseV.on_click(DecreaseVelocity)"
   ]
  },
  {
   "cell_type": "code",
   "execution_count": 12,
   "id": "79d1ebdb",
   "metadata": {
    "ExecuteTime": {
     "end_time": "2022-05-31T11:41:46.242750Z",
     "start_time": "2022-05-31T11:41:45.929166Z"
    },
    "scrolled": true
   },
   "outputs": [
    {
     "data": {
      "application/vnd.jupyter.widget-view+json": {
       "model_id": "1171f47c5b5c4d3c9388d60c91baefb9",
       "version_major": 2,
       "version_minor": 0
      },
      "text/plain": [
       "Output()"
      ]
     },
     "metadata": {},
     "output_type": "display_data"
    },
    {
     "data": {
      "application/vnd.jupyter.widget-view+json": {
       "model_id": "97affac1adc54d7f93e7787c7b37e084",
       "version_major": 2,
       "version_minor": 0
      },
      "text/plain": [
       "Output()"
      ]
     },
     "metadata": {},
     "output_type": "display_data"
    },
    {
     "data": {
      "application/vnd.jupyter.widget-view+json": {
       "model_id": "a3858de07e40436b8a40d29d4a938b59",
       "version_major": 2,
       "version_minor": 0
      },
      "text/plain": [
       "HBox(children=(Button(description='AutonomousNavigation', style=ButtonStyle()), Button(description='RobotNavig…"
      ]
     },
     "metadata": {},
     "output_type": "display_data"
    },
    {
     "name": "stdout",
     "output_type": "stream",
     "text": [
      "Robot Navigation!\n"
     ]
    },
    {
     "data": {
      "application/vnd.jupyter.widget-view+json": {
       "model_id": "ee812ec314f44070b512ecefc6c3c125",
       "version_major": 2,
       "version_minor": 0
      },
      "text/plain": [
       "Checkbox(value=False, description='Assisted drive', indent=False)"
      ]
     },
     "metadata": {},
     "output_type": "display_data"
    },
    {
     "data": {
      "application/vnd.jupyter.widget-view+json": {
       "model_id": "1dae4230d60c47dbb5dffd153a03d0f5",
       "version_major": 2,
       "version_minor": 0
      },
      "text/plain": [
       "Button(description='Front', style=ButtonStyle())"
      ]
     },
     "metadata": {},
     "output_type": "display_data"
    },
    {
     "data": {
      "application/vnd.jupyter.widget-view+json": {
       "model_id": "898772dc7d4c4ab9af95add4b1cdef60",
       "version_major": 2,
       "version_minor": 0
      },
      "text/plain": [
       "Button(description='Back', style=ButtonStyle())"
      ]
     },
     "metadata": {},
     "output_type": "display_data"
    },
    {
     "data": {
      "application/vnd.jupyter.widget-view+json": {
       "model_id": "54a86ee2abb544efb8c23355e1ad9d57",
       "version_major": 2,
       "version_minor": 0
      },
      "text/plain": [
       "Button(description='Right', style=ButtonStyle())"
      ]
     },
     "metadata": {},
     "output_type": "display_data"
    },
    {
     "data": {
      "application/vnd.jupyter.widget-view+json": {
       "model_id": "942dfafac9af482b8564307c1358d4be",
       "version_major": 2,
       "version_minor": 0
      },
      "text/plain": [
       "Button(description='Stop', style=ButtonStyle())"
      ]
     },
     "metadata": {},
     "output_type": "display_data"
    },
    {
     "data": {
      "application/vnd.jupyter.widget-view+json": {
       "model_id": "ef6d5ace82c249109d1a9576c62eae38",
       "version_major": 2,
       "version_minor": 0
      },
      "text/plain": [
       "Button(description='FrontLeft', style=ButtonStyle())"
      ]
     },
     "metadata": {},
     "output_type": "display_data"
    },
    {
     "data": {
      "application/vnd.jupyter.widget-view+json": {
       "model_id": "a497eaf07aba4b33803af7eda1762d9d",
       "version_major": 2,
       "version_minor": 0
      },
      "text/plain": [
       "Button(description='FrontRight', style=ButtonStyle())"
      ]
     },
     "metadata": {},
     "output_type": "display_data"
    },
    {
     "data": {
      "application/vnd.jupyter.widget-view+json": {
       "model_id": "d2e4b20873f44cf790483b0318ae8e30",
       "version_major": 2,
       "version_minor": 0
      },
      "text/plain": [
       "Button(description='IncreaseV', style=ButtonStyle())"
      ]
     },
     "metadata": {},
     "output_type": "display_data"
    },
    {
     "data": {
      "application/vnd.jupyter.widget-view+json": {
       "model_id": "5fb40e66a0574b2aa98de60ed707319d",
       "version_major": 2,
       "version_minor": 0
      },
      "text/plain": [
       "Button(description='DecreaseV', style=ButtonStyle())"
      ]
     },
     "metadata": {},
     "output_type": "display_data"
    }
   ],
   "source": [
    "# Definition of the button for the modality to choose\n",
    "# Autonomous navigation or Manual drive\n",
    "b1 = widgets.Button(description='AutonomousNavigation')\n",
    "\n",
    "b2 = widgets.Button(description='RobotNavigation')\n",
    "\n",
    "output1 = widgets.Output()\n",
    "output2 = widgets.Output()\n",
    "\n",
    "b1.on_click(AutonomousNavigation)\n",
    "b2.on_click(RobotNavigation)\n",
    "\n",
    "display(output1)\n",
    "display(output2)\n",
    "\n",
    "HBox([b1, b2])"
   ]
  },
  {
   "cell_type": "code",
   "execution_count": 13,
   "id": "726ad717",
   "metadata": {
    "ExecuteTime": {
     "end_time": "2022-05-31T11:41:46.806347Z",
     "start_time": "2022-05-31T11:41:46.255525Z"
    }
   },
   "outputs": [],
   "source": [
    "## Cell to initialize the node and to define publisher and subscriber\n",
    "#init node\n",
    "rospy.init_node(\"RobSim\")\n",
    "#All the subscriber\n",
    "pubVel = rospy.Publisher(\"/cmd_vel\", Twist, queue_size = 1)\n",
    "pubGoal = rospy.Publisher(\"move_base/goal\", MoveBaseActionGoal, queue_size = 1)\n",
    "pubCancel = rospy.Publisher(\"move_base/cancel\", GoalID, queue_size = 1)\n",
    "#All the publisher\n",
    "SubGoal = rospy.Subscriber('/move_base/goal', MoveBaseActionGoal, CurrentGoal)\n",
    "SubStatus = rospy.Subscriber('/move_base/feedback', MoveBaseActionFeedback, GoalStatus)\n",
    "SubAvoidColl = rospy.Subscriber('/scan', LaserScan, CollisionAvoidanceCallback)"
   ]
  },
  {
   "cell_type": "markdown",
   "id": "15328243",
   "metadata": {},
   "source": [
    "## Data Visualization ##"
   ]
  },
  {
   "cell_type": "code",
   "execution_count": 18,
   "id": "97cf1f18",
   "metadata": {
    "ExecuteTime": {
     "end_time": "2022-05-31T11:45:08.550325Z",
     "start_time": "2022-05-31T11:45:08.152546Z"
    },
    "scrolled": true
   },
   "outputs": [
    {
     "data": {
      "application/vnd.jupyter.widget-view+json": {
       "model_id": "cda69b4e47f4415a8a22cbbaec049d7f",
       "version_major": 2,
       "version_minor": 0
      },
      "text/plain": [
       "Canvas(toolbar=Toolbar(toolitems=[('Home', 'Reset original view', 'home', 'home'), ('Back', 'Back to previous …"
      ]
     },
     "metadata": {},
     "output_type": "display_data"
    }
   ],
   "source": [
    "%matplotlib widget\n",
    "\n",
    "class Visualiser:\n",
    "    \n",
    "    def __init__(self):\n",
    "        \n",
    "        self.fig, self.ax = plt.subplots()\n",
    "        self.ln, = plt.plot([], [], 'b-')\n",
    "        self.x_data, self.y_data = [] , []\n",
    "        \n",
    "    def plot_init(self):\n",
    "        self.ax.set_xlim(-10, 10)\n",
    "        self.ax.set_ylim(-10, 10)\n",
    "        return self.ln\n",
    "    \n",
    "    def odom_callback(self, msg):\n",
    "        self.y_data.append(msg.pose.pose.position.y)\n",
    "        self.x_data.append(msg.pose.pose.position.x)\n",
    "        \n",
    "    def update_plot(self, frame):\n",
    "        self.ln.set_data(self.x_data, self.y_data)\n",
    "        return self.ln\n",
    "    \n",
    "vis = Visualiser()\n",
    "sub = rospy.Subscriber('/odom', Odometry, vis.odom_callback)\n",
    "ani = FuncAnimation(vis.fig, vis.update_plot, init_func=vis.plot_init)\n",
    "plt.show(block=True)"
   ]
  },
  {
   "cell_type": "markdown",
   "id": "e5c27b27",
   "metadata": {},
   "source": [
    "### Laser scan\n",
    "In this cell, the code for the plot of the lasers scan in implemented. What is shown in the plot is what the robot sees with its laser scanner in a frontal view."
   ]
  },
  {
   "cell_type": "code",
   "execution_count": 15,
   "id": "2fbb01c0",
   "metadata": {
    "ExecuteTime": {
     "end_time": "2022-05-31T11:41:47.874070Z",
     "start_time": "2022-05-31T11:41:47.330178Z"
    },
    "scrolled": true
   },
   "outputs": [
    {
     "data": {
      "application/vnd.jupyter.widget-view+json": {
       "model_id": "dfd578a31cdb44c8a9ac45a46e0f4e33",
       "version_major": 2,
       "version_minor": 0
      },
      "text/plain": [
       "Canvas(toolbar=Toolbar(toolitems=[('Home', 'Reset original view', 'home', 'home'), ('Back', 'Back to previous …"
      ]
     },
     "metadata": {},
     "output_type": "display_data"
    }
   ],
   "source": [
    "import math\n",
    "class Visualiser:\n",
    "    def __init__(self):\n",
    "        \n",
    "        self.fig, self.ax = plt.subplots()\n",
    "        self.ln, = plt.plot([], [], 'r.')\n",
    "        self.x_plot, self.y_plot = [], []\n",
    "    \n",
    "    def plot_init(self):\n",
    "        self.ax.set_xlim(-15,15)\n",
    "        self.ax.set_ylim(-15,15)\n",
    "        return self.ln\n",
    "        \n",
    "    def scanner_callback(self, msg):\n",
    "        self.x_plot = []\n",
    "        self.y_plot = []\n",
    "        angle = msg.angle_min\n",
    "        for i in range(0, len(msg.ranges)):\n",
    "            \n",
    "            self.x_plot.append(msg.ranges[i]*math.cos(angle + (90.0*3.1416/180.0)))\n",
    "            self.y_plot.append(msg.ranges[i]*math.sin(angle + (90.0*3.1416/180.0)))\n",
    "            angle = angle + msg.angle_increment\n",
    "            \n",
    "    def update_plot(self, frame):\n",
    "        self.ln.set_data(self.x_plot, self.y_plot)\n",
    "        return self.ln\n",
    "        \n",
    "\n",
    "vis = Visualiser()\n",
    "sub = rospy.Subscriber('/scan', LaserScan, vis.scanner_callback)\n",
    "ani = FuncAnimation(vis.fig, vis.update_plot, init_func = vis.plot_init)\n",
    "plt.show(block = True)"
   ]
  },
  {
   "cell_type": "code",
   "execution_count": 20,
   "id": "55b4eaf5",
   "metadata": {
    "ExecuteTime": {
     "end_time": "2022-05-31T11:45:46.080118Z",
     "start_time": "2022-05-31T11:45:45.827097Z"
    },
    "scrolled": true
   },
   "outputs": [
    {
     "data": {
      "application/vnd.jupyter.widget-view+json": {
       "model_id": "c23f8caa12ca47c8be1cf7ce347b7662",
       "version_major": 2,
       "version_minor": 0
      },
      "text/plain": [
       "Canvas(toolbar=Toolbar(toolitems=[('Home', 'Reset original view', 'home', 'home'), ('Back', 'Back to previous …"
      ]
     },
     "metadata": {},
     "output_type": "display_data"
    }
   ],
   "source": [
    "fig2, ax2 = plt.subplots()\n",
    "def ShowPiePlot(b):\n",
    "    global fig2, ax2    \n",
    "    ax2.cla()\n",
    "    labels = 'Reached', 'Not reached'\n",
    "    sizes = [achieved, notAchieved]    \n",
    "    ax2.pie(sizes, labels = labels, autopct ='%1.1f%%', shadow = True, startangle = 90)\n",
    "    ax2.axis('equal') \n",
    "    plt.show()"
   ]
  },
  {
   "cell_type": "code",
   "execution_count": 19,
   "id": "b3ef4b75",
   "metadata": {
    "ExecuteTime": {
     "end_time": "2022-05-31T11:45:16.582890Z",
     "start_time": "2022-05-31T11:45:16.293123Z"
    },
    "scrolled": true
   },
   "outputs": [
    {
     "data": {
      "application/vnd.jupyter.widget-view+json": {
       "model_id": "c3fd24d7a82c4c3e8adfb09af56b91a6",
       "version_major": 2,
       "version_minor": 0
      },
      "text/plain": [
       "Button(description='ShowPiePlot', style=ButtonStyle())"
      ]
     },
     "metadata": {},
     "output_type": "display_data"
    }
   ],
   "source": [
    "PiePlot = widgets.Button(description='ShowPiePlot')\n",
    "Histogram = widgets.Button(description='ShowHistogram')\n",
    "\n",
    "PiePlot.on_click(ShowPiePlot)\n",
    "\n",
    "display(PiePlot)\n",
    " "
   ]
  },
  {
   "cell_type": "code",
   "execution_count": null,
   "id": "69c94e2a",
   "metadata": {
    "scrolled": true
   },
   "outputs": [],
   "source": []
  }
 ],
 "metadata": {
  "hide_input": true,
  "kernelspec": {
   "display_name": "Python 3 (ipykernel)",
   "language": "python",
   "name": "python3"
  },
  "language_info": {
   "codemirror_mode": {
    "name": "ipython",
    "version": 3
   },
   "file_extension": ".py",
   "mimetype": "text/x-python",
   "name": "python",
   "nbconvert_exporter": "python",
   "pygments_lexer": "ipython3",
   "version": "3.8.5"
  },
  "toc": {
   "base_numbering": 1,
   "nav_menu": {},
   "number_sections": true,
   "sideBar": true,
   "skip_h1_title": false,
   "title_cell": "Table of Contents",
   "title_sidebar": "Contents",
   "toc_cell": false,
   "toc_position": {},
   "toc_section_display": true,
   "toc_window_display": false
  },
  "varInspector": {
   "cols": {
    "lenName": 16,
    "lenType": 16,
    "lenVar": 40
   },
   "kernels_config": {
    "python": {
     "delete_cmd_postfix": "",
     "delete_cmd_prefix": "del ",
     "library": "var_list.py",
     "varRefreshCmd": "print(var_dic_list())"
    },
    "r": {
     "delete_cmd_postfix": ") ",
     "delete_cmd_prefix": "rm(",
     "library": "var_list.r",
     "varRefreshCmd": "cat(var_dic_list()) "
    }
   },
   "types_to_exclude": [
    "module",
    "function",
    "builtin_function_or_method",
    "instance",
    "_Feature"
   ],
   "window_display": false
  }
 },
 "nbformat": 4,
 "nbformat_minor": 5
}
